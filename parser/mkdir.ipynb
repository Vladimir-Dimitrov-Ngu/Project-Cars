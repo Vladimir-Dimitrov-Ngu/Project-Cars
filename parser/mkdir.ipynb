{
 "cells": [
  {
   "cell_type": "code",
   "execution_count": 2,
   "metadata": {
    "collapsed": true
   },
   "outputs": [],
   "source": [
    "from selenium import webdriver\n",
    "import pandas as pd\n",
    "import os\n",
    "from tqdm import trange\n",
    "from IPython.display import clear_output"
   ]
  },
  {
   "cell_type": "code",
   "execution_count": 5,
   "outputs": [
    {
     "name": "stderr",
     "output_type": "stream",
     "text": [
      "100%|██████████| 8317/8317 [49:44<00:00,  2.79it/s]  \n"
     ]
    }
   ],
   "source": [
    "options = webdriver.ChromeOptions()\n",
    "\n",
    "# user-agent\n",
    "options.add_argument(\"user-agent=Mozilla/5.0 (X11; Ubuntu; Linux x86_64; rv:84.0) Gecko/20100101 Firefox/84.0\")\n",
    "# for ChromeDriver version 79.0.3945.16 or over\n",
    "options.add_argument(\"--disable-blink-features=AutomationControlled\")\n",
    "\n",
    "driver = webdriver.Chrome(executable_path=r'C:\\Users\\user\\Project-Cars\\drivers\\Chromedriver\\chromedriver.exe',\n",
    "                          options=options)\n",
    "clear_output()\n",
    "urls, marks = pd.read_csv('All.csv', index_col = 0)['Urls'].to_list(), \\\n",
    "              pd.read_csv('All.csv', index_col = 0)['Mark'].to_list()\n",
    "\n",
    "assert len(urls) == len(marks)\n",
    "for i in trange(len(urls)):\n",
    "    driver.get(urls[i])\n",
    "    path = os.getcwd()  + '\\\\cars_image' + f'\\\\{marks[i]}'\n",
    "    if not os.path.exists(path):\n",
    "        os.makedirs(path)\n",
    "    driver.save_screenshot(path + f'//{i}.png')\n",
    "driver.quit()"
   ],
   "metadata": {
    "collapsed": false,
    "pycharm": {
     "name": "#%%\n"
    }
   }
  },
  {
   "cell_type": "code",
   "execution_count": 20,
   "outputs": [
    {
     "name": "stdout",
     "output_type": "stream",
     "text": [
      "Folder size: 1.47 ГБ\n"
     ]
    }
   ],
   "source": [
    "size = 0\n",
    "\n",
    "Folderpath = os.getcwd()  + '\\\\cars_image'\n",
    "\n",
    "for path, dirs, files in os.walk(Folderpath):\n",
    "    for f in files:\n",
    "        fp = os.path.join(path, f)\n",
    "        size += os.path.getsize(fp)\n",
    "\n",
    "print(\"Folder size: \" + str(round(size/1024/1024/1024,2)) + ' ГБ')"
   ],
   "metadata": {
    "collapsed": false,
    "pycharm": {
     "name": "#%%\n"
    }
   }
  },
  {
   "cell_type": "code",
   "execution_count": 35,
   "outputs": [
    {
     "name": "stdout",
     "output_type": "stream",
     "text": [
      "8317\n"
     ]
    }
   ],
   "source": [
    "length_all = 0\n",
    "marks = set(marks)\n",
    "marks = list(marks)\n",
    "for i in range(len(marks)):\n",
    "    DIR = Folderpath + f'\\\\{marks[i]}'\n",
    "    length_all += len([name for name in os.listdir(DIR) if os.path.isfile(os.path.join(DIR, name))])\n",
    "print(length_all)"
   ],
   "metadata": {
    "collapsed": false,
    "pycharm": {
     "name": "#%%\n"
    }
   }
  }
 ],
 "metadata": {
  "kernelspec": {
   "display_name": "Python 3",
   "language": "python",
   "name": "python3"
  },
  "language_info": {
   "codemirror_mode": {
    "name": "ipython",
    "version": 2
   },
   "file_extension": ".py",
   "mimetype": "text/x-python",
   "name": "python",
   "nbconvert_exporter": "python",
   "pygments_lexer": "ipython2",
   "version": "2.7.6"
  }
 },
 "nbformat": 4,
 "nbformat_minor": 0
}