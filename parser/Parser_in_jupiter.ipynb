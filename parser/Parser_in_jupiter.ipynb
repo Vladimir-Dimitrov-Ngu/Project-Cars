{
 "cells": [
  {
   "cell_type": "code",
   "execution_count": 33,
   "metadata": {
    "collapsed": true,
    "pycharm": {
     "name": "#%%\n"
    }
   },
   "outputs": [],
   "source": [
    "from selenium import webdriver\n",
    "import time\n",
    "import datetime\n",
    "from selenium.webdriver.common.by import By\n",
    "import pickle\n",
    "from tqdm import tqdm\n",
    "from preparing import preparing_cite\n",
    "import pandas as pd\n",
    "from statistic import statistics_info\n",
    "# agents options\n",
    "statistics = True\n",
    "import random\n",
    "from IPython.display import clear_output\n",
    "import os"
   ]
  },
  {
   "cell_type": "code",
   "execution_count": 3,
   "outputs": [
    {
     "name": "stderr",
     "output_type": "stream",
     "text": [
      "C:\\Users\\user\\AppData\\Local\\Temp\\ipykernel_11664\\1067538451.py:9: DeprecationWarning: executable_path has been deprecated, please pass in a Service object\n",
      "  driver = webdriver.Chrome(executable_path=r'C:\\Users\\user\\Project-Cars\\drivers\\Chromedriver\\chromedriver.exe',\n",
      "Работаю с марками: 100%|██████████| 34/34 [00:00<00:00, 62.90it/s]\n"
     ]
    }
   ],
   "source": [
    "# options\n",
    "options = webdriver.ChromeOptions()\n",
    "\n",
    "# user-agent\n",
    "options.add_argument(\"user-agent=Mozilla/5.0 (X11; Ubuntu; Linux x86_64; rv:84.0) Gecko/20100101 Firefox/84.0\")\n",
    "# for ChromeDriver version 79.0.3945.16 or over\n",
    "options.add_argument(\"--disable-blink-features=AutomationControlled\")\n",
    "\n",
    "driver = webdriver.Chrome(executable_path=r'C:\\Users\\user\\Project-Cars\\drivers\\Chromedriver\\chromedriver.exe',\n",
    "                          options=options)\n",
    "\n",
    "cite = 'https://auto.ru/'\n",
    "\n",
    "\n",
    "driver.get(cite)\n",
    "driver.find_element(by = By.XPATH, value = '//*[@id=\"root\"]/div/div/form/div[2]/div/div/div[1]/input').click()\n",
    "time.sleep(15)\n",
    "for cookie in pickle.load(open(f\"auto_cookies\", 'rb')):\n",
    "    driver.add_cookie(cookie)\n",
    "driver.refresh()\n",
    "# driver.find_element(by = By.XPATH, value = '//*[@id=\"root\"]/div/div/form/div[2]/div/div/div[1]/input').click()\n",
    "# time.sleep(15)\n",
    "marks_tidy = driver.find_elements(by = By.CLASS_NAME, value = 'IndexMarks__item')\n",
    "count_tidy = driver.find_elements(by = By.CLASS_NAME, value = 'IndexMarks__item-count')\n",
    "marks = []\n",
    "counts = []\n",
    "city = driver.find_element(by = By.CLASS_NAME, value = 'GeoSelect__titleShrinker-wjCdV').text.split(' ')[0]\n",
    "for j in tqdm(range(len(marks_tidy)), desc = 'Работаю с марками'):\n",
    "    marks.append(marks_tidy[j].text.split('\\n')[0])"
   ],
   "metadata": {
    "collapsed": false,
    "pycharm": {
     "name": "#%%\n"
    }
   }
  },
  {
   "cell_type": "code",
   "execution_count": 5,
   "outputs": [
    {
     "name": "stderr",
     "output_type": "stream",
     "text": [
      "Считаю статистики: 100%|██████████| 34/34 [00:00<00:00, 76.66it/s]\n"
     ]
    }
   ],
   "source": [
    "statistics = True\n",
    "if statistics == True:\n",
    "    for i in tqdm(range(len(count_tidy)), desc='Считаю статистики'):\n",
    "        counts.append(count_tidy[i].text.split('\\n')[0])\n",
    "    dict_for_statistic = {\n",
    "        'Marks': marks,\n",
    "        'Counts': counts,\n",
    "        'City': [city] * len(marks)\n",
    "    }\n",
    "    assert len(marks) == len(counts), 'Ошибка в реализации или в выдаче сайте'\n",
    "    pd.DataFrame(dict_for_statistic).to_csv(f'Статистика_{city}.csv')"
   ],
   "metadata": {
    "collapsed": false,
    "pycharm": {
     "name": "#%%\n"
    }
   }
  },
  {
   "cell_type": "code",
   "execution_count": 34,
   "outputs": [],
   "source": [
    "try:\n",
    "    marks_done = list(pd.read_csv('All.csv')['Mark'].unique())\n",
    "except:\n",
    "    marks_done = []"
   ],
   "metadata": {
    "collapsed": false,
    "pycharm": {
     "name": "#%%\n"
    }
   }
  },
  {
   "cell_type": "code",
   "execution_count": 36,
   "outputs": [
    {
     "name": "stderr",
     "output_type": "stream",
     "text": [
      "Парсирую юрл марок (вообще): 100%|██████████| 34/34 [15:04<00:00, 26.61s/it]\n"
     ]
    }
   ],
   "source": [
    "p = 0\n",
    "for z in tqdm(range(len(marks)), desc = 'Парсирую юрл марок (вообще)'):\n",
    "    if marks[z] in marks_done:\n",
    "        continue\n",
    "    try: marks_tidy[z].click()\n",
    "    except:\n",
    "        marks_tidy = driver.find_elements(by = By.CLASS_NAME, value = 'IndexMarks__item')\n",
    "        marks_tidy[z].click()\n",
    "    link = []\n",
    "    driver.execute_script(\"window.scrollTo(0, document.body.scrollHeight);\")\n",
    "    time.sleep(random.randint(4, 7))\n",
    "    # try:\n",
    "    #     # page_max = driver.find_element(by = By.XPATH, value = '//*[@id=\"listing-filters\"]/div[10]/div/span/a[11]/span')\\\n",
    "    #     # .text.split('\\n')[-1]\n",
    "    #     page_max = driver.find_element(by = By.XPATH, value = '//*[@id=\"listing-filters\"]/div[10]/div/span').text[-1]\n",
    "    # except:\n",
    "    #     page_max = driver.find_element(by = By.XPATH, value = '//*[@id=\"lmcQaMxB6xjLkJq45u4ay\"]/div[10]/div/span/a[11]/span')\\\n",
    "    #             .text.split('\\n')[-1]\n",
    "    # print(f'Всего будет {page_max} страниц')\n",
    "    print('Готов')\n",
    "    for i in tqdm(range(2, int(40) + 1), desc = f'Страницы'):\n",
    "        p += 1\n",
    "        time.sleep(random.randint(4, 7))\n",
    "        urls = driver.find_elements(by = By.CLASS_NAME, value = 'LazyImage__image')\n",
    "        for url in urls:\n",
    "            link.append(url.get_attribute('src'))\n",
    "            # except:\n",
    "            #     time.sleep(5)\n",
    "            #     urls = driver.find_elements(by = By.CLASS_NAME, value = 'LazyImage__image')\n",
    "            #     for url in urls:\n",
    "            #         link.append(url.get_attribute('src'))\n",
    "            #    break\n",
    "        if p % 5 == 0:\n",
    "            d = {'Urls' : link,\n",
    "                 'Mark' : [marks[z]] * len(link)}\n",
    "            urls_gap = pd.DataFrame(d)\n",
    "            urls_gap.to_csv(f'Urls_gap_{marks[z]}.csv')\n",
    "        # if page_max == 1:\n",
    "        #     break\n",
    "        try: driver.find_element(by = By.LINK_TEXT, value = f'{i}').click()\n",
    "        except:\n",
    "            break\n",
    "        if 0.5 > random.uniform(0, 1):\n",
    "            time.sleep(random.randint(3, 5))\n",
    "    driver.get(cite)\n",
    "    clear_output()"
   ],
   "metadata": {
    "collapsed": false,
    "pycharm": {
     "name": "#%%\n"
    }
   }
  },
  {
   "cell_type": "code",
   "execution_count": 37,
   "outputs": [
    {
     "name": "stderr",
     "output_type": "stream",
     "text": [
      "C:\\Users\\user\\AppData\\Local\\Temp\\ipykernel_19436\\3357959652.py:11: FutureWarning: The frame.append method is deprecated and will be removed from pandas in a future version. Use pandas.concat instead.\n",
      "  pd_all = pd_all_past.append(pd_all)\n"
     ]
    }
   ],
   "source": [
    "pd_all = pd.DataFrame()\n",
    "for mark in marks:\n",
    "    try:\n",
    "        pd_all = pd_all.append(pd.read_csv(f'Urls_gap_{mark}.csv', index_col = 0))\n",
    "        os.remove(f'Urls_gap_{mark}.csv')\n",
    "        clear_output()\n",
    "    except:\n",
    "        continue\n",
    "pd_all = pd_all.reset_index(drop=True)\n",
    "pd_all_past = pd.read_csv('All.csv', index_col = 0)\n",
    "pd_all = pd_all_past.append(pd_all)\n",
    "pd_all.to_csv('All.csv')"
   ],
   "metadata": {
    "collapsed": false,
    "pycharm": {
     "name": "#%%\n"
    }
   }
  },
  {
   "cell_type": "markdown",
   "source": [
    "Напишем параллельно..."
   ],
   "metadata": {
    "collapsed": false,
    "pycharm": {
     "name": "#%% md\n"
    }
   }
  }
 ],
 "metadata": {
  "kernelspec": {
   "display_name": "Python 3",
   "language": "python",
   "name": "python3"
  },
  "language_info": {
   "codemirror_mode": {
    "name": "ipython",
    "version": 2
   },
   "file_extension": ".py",
   "mimetype": "text/x-python",
   "name": "python",
   "nbconvert_exporter": "python",
   "pygments_lexer": "ipython2",
   "version": "2.7.6"
  }
 },
 "nbformat": 4,
 "nbformat_minor": 0
}