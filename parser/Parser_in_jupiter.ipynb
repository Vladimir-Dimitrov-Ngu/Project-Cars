{
 "cells": [
  {
   "cell_type": "code",
   "execution_count": 1,
   "metadata": {
    "collapsed": true,
    "pycharm": {
     "name": "#%%\n"
    }
   },
   "outputs": [],
   "source": [
    "from selenium import webdriver\n",
    "import time\n",
    "import datetime\n",
    "from selenium.webdriver.common.by import By\n",
    "import pickle\n",
    "from tqdm import tqdm\n",
    "from preparing import preparing_cite\n",
    "import pandas as pd\n",
    "from statistic import statistics_info\n",
    "# agents options\n",
    "statistics = True"
   ]
  },
  {
   "cell_type": "code",
   "execution_count": 2,
   "outputs": [
    {
     "ename": "NoSuchElementException",
     "evalue": "Message: no such element: Unable to locate element: {\"method\":\"css selector\",\"selector\":\".GeoSelect__titleShrinker-wjCdV\"}\n  (Session info: chrome=109.0.5414.120)\nStacktrace:\nBacktrace:\n\t(No symbol) [0x00FB6643]\n\t(No symbol) [0x00F4BE21]\n\t(No symbol) [0x00E4DA9D]\n\t(No symbol) [0x00E81342]\n\t(No symbol) [0x00E8147B]\n\t(No symbol) [0x00EB8DC2]\n\t(No symbol) [0x00E9FDC4]\n\t(No symbol) [0x00EB6B09]\n\t(No symbol) [0x00E9FB76]\n\t(No symbol) [0x00E749C1]\n\t(No symbol) [0x00E75E5D]\n\tGetHandleVerifier [0x0122A142+2497106]\n\tGetHandleVerifier [0x012585D3+2686691]\n\tGetHandleVerifier [0x0125BB9C+2700460]\n\tGetHandleVerifier [0x01063B10+635936]\n\t(No symbol) [0x00F54A1F]\n\t(No symbol) [0x00F5A418]\n\t(No symbol) [0x00F5A505]\n\t(No symbol) [0x00F6508B]\n\tBaseThreadInitThunk [0x76296BD9+25]\n\tRtlGetFullPathName_UEx [0x76F48FD2+1218]\n\tRtlGetFullPathName_UEx [0x76F48F9D+1165]\n",
     "output_type": "error",
     "traceback": [
      "\u001B[1;31m---------------------------------------------------------------------------\u001B[0m",
      "\u001B[1;31mNoSuchElementException\u001B[0m                    Traceback (most recent call last)",
      "Input \u001B[1;32mIn [2]\u001B[0m, in \u001B[0;36m<cell line: 1>\u001B[1;34m()\u001B[0m\n\u001B[1;32m----> 1\u001B[0m driver, marks_tidy,marks, count_tidy, city, counts \u001B[38;5;241m=\u001B[39m \u001B[43mpreparing_cite\u001B[49m\u001B[43m(\u001B[49m\u001B[43m)\u001B[49m\n",
      "File \u001B[1;32m~\\Project-Cars\\parser\\preparing.py:27\u001B[0m, in \u001B[0;36mpreparing_cite\u001B[1;34m()\u001B[0m\n\u001B[0;32m     25\u001B[0m marks \u001B[38;5;241m=\u001B[39m []\n\u001B[0;32m     26\u001B[0m counts \u001B[38;5;241m=\u001B[39m []\n\u001B[1;32m---> 27\u001B[0m city \u001B[38;5;241m=\u001B[39m \u001B[43mdriver\u001B[49m\u001B[38;5;241;43m.\u001B[39;49m\u001B[43mfind_element\u001B[49m\u001B[43m(\u001B[49m\u001B[43mby\u001B[49m\u001B[43m \u001B[49m\u001B[38;5;241;43m=\u001B[39;49m\u001B[43m \u001B[49m\u001B[43mBy\u001B[49m\u001B[38;5;241;43m.\u001B[39;49m\u001B[43mCLASS_NAME\u001B[49m\u001B[43m,\u001B[49m\u001B[43m \u001B[49m\u001B[43mvalue\u001B[49m\u001B[43m \u001B[49m\u001B[38;5;241;43m=\u001B[39;49m\u001B[43m \u001B[49m\u001B[38;5;124;43m'\u001B[39;49m\u001B[38;5;124;43mGeoSelect__titleShrinker-wjCdV\u001B[39;49m\u001B[38;5;124;43m'\u001B[39;49m\u001B[43m)\u001B[49m\u001B[38;5;241m.\u001B[39mtext\u001B[38;5;241m.\u001B[39msplit(\u001B[38;5;124m'\u001B[39m\u001B[38;5;124m \u001B[39m\u001B[38;5;124m'\u001B[39m)[\u001B[38;5;241m0\u001B[39m]\n\u001B[0;32m     28\u001B[0m \u001B[38;5;28;01mfor\u001B[39;00m j \u001B[38;5;129;01min\u001B[39;00m tqdm(\u001B[38;5;28mrange\u001B[39m(\u001B[38;5;28mlen\u001B[39m(marks_tidy)), desc \u001B[38;5;241m=\u001B[39m \u001B[38;5;124m'\u001B[39m\u001B[38;5;124mРаботаю с марками\u001B[39m\u001B[38;5;124m'\u001B[39m):\n\u001B[0;32m     29\u001B[0m     marks\u001B[38;5;241m.\u001B[39mappend(marks_tidy[j]\u001B[38;5;241m.\u001B[39mtext\u001B[38;5;241m.\u001B[39msplit(\u001B[38;5;124m'\u001B[39m\u001B[38;5;130;01m\\n\u001B[39;00m\u001B[38;5;124m'\u001B[39m)[\u001B[38;5;241m0\u001B[39m])\n",
      "File \u001B[1;32m~\\AppData\\Local\\Programs\\Python\\Python39\\lib\\site-packages\\selenium\\webdriver\\remote\\webdriver.py:855\u001B[0m, in \u001B[0;36mWebDriver.find_element\u001B[1;34m(self, by, value)\u001B[0m\n\u001B[0;32m    852\u001B[0m     by \u001B[38;5;241m=\u001B[39m By\u001B[38;5;241m.\u001B[39mCSS_SELECTOR\n\u001B[0;32m    853\u001B[0m     value \u001B[38;5;241m=\u001B[39m \u001B[38;5;124m'\u001B[39m\u001B[38;5;124m[name=\u001B[39m\u001B[38;5;124m\"\u001B[39m\u001B[38;5;132;01m%s\u001B[39;00m\u001B[38;5;124m\"\u001B[39m\u001B[38;5;124m]\u001B[39m\u001B[38;5;124m'\u001B[39m \u001B[38;5;241m%\u001B[39m value\n\u001B[1;32m--> 855\u001B[0m \u001B[38;5;28;01mreturn\u001B[39;00m \u001B[38;5;28;43mself\u001B[39;49m\u001B[38;5;241;43m.\u001B[39;49m\u001B[43mexecute\u001B[49m\u001B[43m(\u001B[49m\u001B[43mCommand\u001B[49m\u001B[38;5;241;43m.\u001B[39;49m\u001B[43mFIND_ELEMENT\u001B[49m\u001B[43m,\u001B[49m\u001B[43m \u001B[49m\u001B[43m{\u001B[49m\n\u001B[0;32m    856\u001B[0m \u001B[43m    \u001B[49m\u001B[38;5;124;43m'\u001B[39;49m\u001B[38;5;124;43musing\u001B[39;49m\u001B[38;5;124;43m'\u001B[39;49m\u001B[43m:\u001B[49m\u001B[43m \u001B[49m\u001B[43mby\u001B[49m\u001B[43m,\u001B[49m\n\u001B[0;32m    857\u001B[0m \u001B[43m    \u001B[49m\u001B[38;5;124;43m'\u001B[39;49m\u001B[38;5;124;43mvalue\u001B[39;49m\u001B[38;5;124;43m'\u001B[39;49m\u001B[43m:\u001B[49m\u001B[43m \u001B[49m\u001B[43mvalue\u001B[49m\u001B[43m}\u001B[49m\u001B[43m)\u001B[49m[\u001B[38;5;124m'\u001B[39m\u001B[38;5;124mvalue\u001B[39m\u001B[38;5;124m'\u001B[39m]\n",
      "File \u001B[1;32m~\\AppData\\Local\\Programs\\Python\\Python39\\lib\\site-packages\\selenium\\webdriver\\remote\\webdriver.py:428\u001B[0m, in \u001B[0;36mWebDriver.execute\u001B[1;34m(self, driver_command, params)\u001B[0m\n\u001B[0;32m    426\u001B[0m response \u001B[38;5;241m=\u001B[39m \u001B[38;5;28mself\u001B[39m\u001B[38;5;241m.\u001B[39mcommand_executor\u001B[38;5;241m.\u001B[39mexecute(driver_command, params)\n\u001B[0;32m    427\u001B[0m \u001B[38;5;28;01mif\u001B[39;00m response:\n\u001B[1;32m--> 428\u001B[0m     \u001B[38;5;28;43mself\u001B[39;49m\u001B[38;5;241;43m.\u001B[39;49m\u001B[43merror_handler\u001B[49m\u001B[38;5;241;43m.\u001B[39;49m\u001B[43mcheck_response\u001B[49m\u001B[43m(\u001B[49m\u001B[43mresponse\u001B[49m\u001B[43m)\u001B[49m\n\u001B[0;32m    429\u001B[0m     response[\u001B[38;5;124m'\u001B[39m\u001B[38;5;124mvalue\u001B[39m\u001B[38;5;124m'\u001B[39m] \u001B[38;5;241m=\u001B[39m \u001B[38;5;28mself\u001B[39m\u001B[38;5;241m.\u001B[39m_unwrap_value(\n\u001B[0;32m    430\u001B[0m         response\u001B[38;5;241m.\u001B[39mget(\u001B[38;5;124m'\u001B[39m\u001B[38;5;124mvalue\u001B[39m\u001B[38;5;124m'\u001B[39m, \u001B[38;5;28;01mNone\u001B[39;00m))\n\u001B[0;32m    431\u001B[0m     \u001B[38;5;28;01mreturn\u001B[39;00m response\n",
      "File \u001B[1;32m~\\AppData\\Local\\Programs\\Python\\Python39\\lib\\site-packages\\selenium\\webdriver\\remote\\errorhandler.py:243\u001B[0m, in \u001B[0;36mErrorHandler.check_response\u001B[1;34m(self, response)\u001B[0m\n\u001B[0;32m    241\u001B[0m         alert_text \u001B[38;5;241m=\u001B[39m value[\u001B[38;5;124m'\u001B[39m\u001B[38;5;124malert\u001B[39m\u001B[38;5;124m'\u001B[39m]\u001B[38;5;241m.\u001B[39mget(\u001B[38;5;124m'\u001B[39m\u001B[38;5;124mtext\u001B[39m\u001B[38;5;124m'\u001B[39m)\n\u001B[0;32m    242\u001B[0m     \u001B[38;5;28;01mraise\u001B[39;00m exception_class(message, screen, stacktrace, alert_text)  \u001B[38;5;66;03m# type: ignore[call-arg]  # mypy is not smart enough here\u001B[39;00m\n\u001B[1;32m--> 243\u001B[0m \u001B[38;5;28;01mraise\u001B[39;00m exception_class(message, screen, stacktrace)\n",
      "\u001B[1;31mNoSuchElementException\u001B[0m: Message: no such element: Unable to locate element: {\"method\":\"css selector\",\"selector\":\".GeoSelect__titleShrinker-wjCdV\"}\n  (Session info: chrome=109.0.5414.120)\nStacktrace:\nBacktrace:\n\t(No symbol) [0x00FB6643]\n\t(No symbol) [0x00F4BE21]\n\t(No symbol) [0x00E4DA9D]\n\t(No symbol) [0x00E81342]\n\t(No symbol) [0x00E8147B]\n\t(No symbol) [0x00EB8DC2]\n\t(No symbol) [0x00E9FDC4]\n\t(No symbol) [0x00EB6B09]\n\t(No symbol) [0x00E9FB76]\n\t(No symbol) [0x00E749C1]\n\t(No symbol) [0x00E75E5D]\n\tGetHandleVerifier [0x0122A142+2497106]\n\tGetHandleVerifier [0x012585D3+2686691]\n\tGetHandleVerifier [0x0125BB9C+2700460]\n\tGetHandleVerifier [0x01063B10+635936]\n\t(No symbol) [0x00F54A1F]\n\t(No symbol) [0x00F5A418]\n\t(No symbol) [0x00F5A505]\n\t(No symbol) [0x00F6508B]\n\tBaseThreadInitThunk [0x76296BD9+25]\n\tRtlGetFullPathName_UEx [0x76F48FD2+1218]\n\tRtlGetFullPathName_UEx [0x76F48F9D+1165]\n"
     ]
    }
   ],
   "source": [
    "driver, marks_tidy,marks, count_tidy, city, counts = preparing_cite()"
   ],
   "metadata": {
    "collapsed": false,
    "pycharm": {
     "name": "#%%\n"
    }
   }
  },
  {
   "cell_type": "code",
   "execution_count": null,
   "outputs": [],
   "source": [
    "statistics_info(count_tidy, counts, marks, city, statistics = statistics)"
   ],
   "metadata": {
    "collapsed": false,
    "pycharm": {
     "name": "#%%\n"
    }
   }
  },
  {
   "cell_type": "code",
   "execution_count": 8,
   "outputs": [
    {
     "name": "stderr",
     "output_type": "stream",
     "text": [
      "C:\\Users\\user\\AppData\\Local\\Temp\\ipykernel_12324\\56002781.py:11: DeprecationWarning: executable_path has been deprecated, please pass in a Service object\n",
      "  driver = webdriver.Chrome(executable_path=r'C:\\Users\\user\\Project-Cars\\drivers\\Chromedriver\\chromedriver.exe',\n"
     ]
    },
    {
     "ename": "NoSuchElementException",
     "evalue": "Message: no such element: Unable to locate element: {\"method\":\"css selector\",\"selector\":\".GeoSelect__titleShrinker-wjCdV\"}\n  (Session info: chrome=109.0.5414.120)\nStacktrace:\nBacktrace:\n\t(No symbol) [0x00FB6643]\n\t(No symbol) [0x00F4BE21]\n\t(No symbol) [0x00E4DA9D]\n\t(No symbol) [0x00E81342]\n\t(No symbol) [0x00E8147B]\n\t(No symbol) [0x00EB8DC2]\n\t(No symbol) [0x00E9FDC4]\n\t(No symbol) [0x00EB6B09]\n\t(No symbol) [0x00E9FB76]\n\t(No symbol) [0x00E749C1]\n\t(No symbol) [0x00E75E5D]\n\tGetHandleVerifier [0x0122A142+2497106]\n\tGetHandleVerifier [0x012585D3+2686691]\n\tGetHandleVerifier [0x0125BB9C+2700460]\n\tGetHandleVerifier [0x01063B10+635936]\n\t(No symbol) [0x00F54A1F]\n\t(No symbol) [0x00F5A418]\n\t(No symbol) [0x00F5A505]\n\t(No symbol) [0x00F6508B]\n\tBaseThreadInitThunk [0x76296BD9+25]\n\tRtlGetFullPathName_UEx [0x76F48FD2+1218]\n\tRtlGetFullPathName_UEx [0x76F48F9D+1165]\n",
     "output_type": "error",
     "traceback": [
      "\u001B[1;31m---------------------------------------------------------------------------\u001B[0m",
      "\u001B[1;31mNoSuchElementException\u001B[0m                    Traceback (most recent call last)",
      "Input \u001B[1;32mIn [8]\u001B[0m, in \u001B[0;36m<cell line: 27>\u001B[1;34m()\u001B[0m\n\u001B[0;32m     25\u001B[0m marks \u001B[38;5;241m=\u001B[39m []\n\u001B[0;32m     26\u001B[0m counts \u001B[38;5;241m=\u001B[39m []\n\u001B[1;32m---> 27\u001B[0m city \u001B[38;5;241m=\u001B[39m \u001B[43mdriver\u001B[49m\u001B[38;5;241;43m.\u001B[39;49m\u001B[43mfind_element\u001B[49m\u001B[43m(\u001B[49m\u001B[43mby\u001B[49m\u001B[43m \u001B[49m\u001B[38;5;241;43m=\u001B[39;49m\u001B[43m \u001B[49m\u001B[43mBy\u001B[49m\u001B[38;5;241;43m.\u001B[39;49m\u001B[43mCLASS_NAME\u001B[49m\u001B[43m,\u001B[49m\u001B[43m \u001B[49m\u001B[43mvalue\u001B[49m\u001B[43m \u001B[49m\u001B[38;5;241;43m=\u001B[39;49m\u001B[43m \u001B[49m\u001B[38;5;124;43m'\u001B[39;49m\u001B[38;5;124;43mGeoSelect__titleShrinker-wjCdV\u001B[39;49m\u001B[38;5;124;43m'\u001B[39;49m\u001B[43m)\u001B[49m\u001B[38;5;241m.\u001B[39mtext\u001B[38;5;241m.\u001B[39msplit(\u001B[38;5;124m'\u001B[39m\u001B[38;5;124m \u001B[39m\u001B[38;5;124m'\u001B[39m)[\u001B[38;5;241m0\u001B[39m]\n\u001B[0;32m     28\u001B[0m \u001B[38;5;28;01mfor\u001B[39;00m j \u001B[38;5;129;01min\u001B[39;00m tqdm(\u001B[38;5;28mrange\u001B[39m(\u001B[38;5;28mlen\u001B[39m(marks_tidy)), desc \u001B[38;5;241m=\u001B[39m \u001B[38;5;124m'\u001B[39m\u001B[38;5;124mРаботаю с марками\u001B[39m\u001B[38;5;124m'\u001B[39m):\n\u001B[0;32m     29\u001B[0m     marks\u001B[38;5;241m.\u001B[39mappend(marks_tidy[j]\u001B[38;5;241m.\u001B[39mtext\u001B[38;5;241m.\u001B[39msplit(\u001B[38;5;124m'\u001B[39m\u001B[38;5;130;01m\\n\u001B[39;00m\u001B[38;5;124m'\u001B[39m)[\u001B[38;5;241m0\u001B[39m])\n",
      "File \u001B[1;32m~\\AppData\\Local\\Programs\\Python\\Python39\\lib\\site-packages\\selenium\\webdriver\\remote\\webdriver.py:855\u001B[0m, in \u001B[0;36mWebDriver.find_element\u001B[1;34m(self, by, value)\u001B[0m\n\u001B[0;32m    852\u001B[0m     by \u001B[38;5;241m=\u001B[39m By\u001B[38;5;241m.\u001B[39mCSS_SELECTOR\n\u001B[0;32m    853\u001B[0m     value \u001B[38;5;241m=\u001B[39m \u001B[38;5;124m'\u001B[39m\u001B[38;5;124m[name=\u001B[39m\u001B[38;5;124m\"\u001B[39m\u001B[38;5;132;01m%s\u001B[39;00m\u001B[38;5;124m\"\u001B[39m\u001B[38;5;124m]\u001B[39m\u001B[38;5;124m'\u001B[39m \u001B[38;5;241m%\u001B[39m value\n\u001B[1;32m--> 855\u001B[0m \u001B[38;5;28;01mreturn\u001B[39;00m \u001B[38;5;28;43mself\u001B[39;49m\u001B[38;5;241;43m.\u001B[39;49m\u001B[43mexecute\u001B[49m\u001B[43m(\u001B[49m\u001B[43mCommand\u001B[49m\u001B[38;5;241;43m.\u001B[39;49m\u001B[43mFIND_ELEMENT\u001B[49m\u001B[43m,\u001B[49m\u001B[43m \u001B[49m\u001B[43m{\u001B[49m\n\u001B[0;32m    856\u001B[0m \u001B[43m    \u001B[49m\u001B[38;5;124;43m'\u001B[39;49m\u001B[38;5;124;43musing\u001B[39;49m\u001B[38;5;124;43m'\u001B[39;49m\u001B[43m:\u001B[49m\u001B[43m \u001B[49m\u001B[43mby\u001B[49m\u001B[43m,\u001B[49m\n\u001B[0;32m    857\u001B[0m \u001B[43m    \u001B[49m\u001B[38;5;124;43m'\u001B[39;49m\u001B[38;5;124;43mvalue\u001B[39;49m\u001B[38;5;124;43m'\u001B[39;49m\u001B[43m:\u001B[49m\u001B[43m \u001B[49m\u001B[43mvalue\u001B[49m\u001B[43m}\u001B[49m\u001B[43m)\u001B[49m[\u001B[38;5;124m'\u001B[39m\u001B[38;5;124mvalue\u001B[39m\u001B[38;5;124m'\u001B[39m]\n",
      "File \u001B[1;32m~\\AppData\\Local\\Programs\\Python\\Python39\\lib\\site-packages\\selenium\\webdriver\\remote\\webdriver.py:428\u001B[0m, in \u001B[0;36mWebDriver.execute\u001B[1;34m(self, driver_command, params)\u001B[0m\n\u001B[0;32m    426\u001B[0m response \u001B[38;5;241m=\u001B[39m \u001B[38;5;28mself\u001B[39m\u001B[38;5;241m.\u001B[39mcommand_executor\u001B[38;5;241m.\u001B[39mexecute(driver_command, params)\n\u001B[0;32m    427\u001B[0m \u001B[38;5;28;01mif\u001B[39;00m response:\n\u001B[1;32m--> 428\u001B[0m     \u001B[38;5;28;43mself\u001B[39;49m\u001B[38;5;241;43m.\u001B[39;49m\u001B[43merror_handler\u001B[49m\u001B[38;5;241;43m.\u001B[39;49m\u001B[43mcheck_response\u001B[49m\u001B[43m(\u001B[49m\u001B[43mresponse\u001B[49m\u001B[43m)\u001B[49m\n\u001B[0;32m    429\u001B[0m     response[\u001B[38;5;124m'\u001B[39m\u001B[38;5;124mvalue\u001B[39m\u001B[38;5;124m'\u001B[39m] \u001B[38;5;241m=\u001B[39m \u001B[38;5;28mself\u001B[39m\u001B[38;5;241m.\u001B[39m_unwrap_value(\n\u001B[0;32m    430\u001B[0m         response\u001B[38;5;241m.\u001B[39mget(\u001B[38;5;124m'\u001B[39m\u001B[38;5;124mvalue\u001B[39m\u001B[38;5;124m'\u001B[39m, \u001B[38;5;28;01mNone\u001B[39;00m))\n\u001B[0;32m    431\u001B[0m     \u001B[38;5;28;01mreturn\u001B[39;00m response\n",
      "File \u001B[1;32m~\\AppData\\Local\\Programs\\Python\\Python39\\lib\\site-packages\\selenium\\webdriver\\remote\\errorhandler.py:243\u001B[0m, in \u001B[0;36mErrorHandler.check_response\u001B[1;34m(self, response)\u001B[0m\n\u001B[0;32m    241\u001B[0m         alert_text \u001B[38;5;241m=\u001B[39m value[\u001B[38;5;124m'\u001B[39m\u001B[38;5;124malert\u001B[39m\u001B[38;5;124m'\u001B[39m]\u001B[38;5;241m.\u001B[39mget(\u001B[38;5;124m'\u001B[39m\u001B[38;5;124mtext\u001B[39m\u001B[38;5;124m'\u001B[39m)\n\u001B[0;32m    242\u001B[0m     \u001B[38;5;28;01mraise\u001B[39;00m exception_class(message, screen, stacktrace, alert_text)  \u001B[38;5;66;03m# type: ignore[call-arg]  # mypy is not smart enough here\u001B[39;00m\n\u001B[1;32m--> 243\u001B[0m \u001B[38;5;28;01mraise\u001B[39;00m exception_class(message, screen, stacktrace)\n",
      "\u001B[1;31mNoSuchElementException\u001B[0m: Message: no such element: Unable to locate element: {\"method\":\"css selector\",\"selector\":\".GeoSelect__titleShrinker-wjCdV\"}\n  (Session info: chrome=109.0.5414.120)\nStacktrace:\nBacktrace:\n\t(No symbol) [0x00FB6643]\n\t(No symbol) [0x00F4BE21]\n\t(No symbol) [0x00E4DA9D]\n\t(No symbol) [0x00E81342]\n\t(No symbol) [0x00E8147B]\n\t(No symbol) [0x00EB8DC2]\n\t(No symbol) [0x00E9FDC4]\n\t(No symbol) [0x00EB6B09]\n\t(No symbol) [0x00E9FB76]\n\t(No symbol) [0x00E749C1]\n\t(No symbol) [0x00E75E5D]\n\tGetHandleVerifier [0x0122A142+2497106]\n\tGetHandleVerifier [0x012585D3+2686691]\n\tGetHandleVerifier [0x0125BB9C+2700460]\n\tGetHandleVerifier [0x01063B10+635936]\n\t(No symbol) [0x00F54A1F]\n\t(No symbol) [0x00F5A418]\n\t(No symbol) [0x00F5A505]\n\t(No symbol) [0x00F6508B]\n\tBaseThreadInitThunk [0x76296BD9+25]\n\tRtlGetFullPathName_UEx [0x76F48FD2+1218]\n\tRtlGetFullPathName_UEx [0x76F48F9D+1165]\n"
     ]
    }
   ],
   "source": [
    "# options\n",
    "options = webdriver.ChromeOptions()\n",
    "\n",
    "# user-agent\n",
    "# options.add_argument(\"user-agent=Mozilla/5.0 (X11; Ubuntu; Linux x86_64; rv:84.0) Gecko/20100101 Firefox/84.0\")\n",
    "a = 'Mozilla/5.0 (Windows NT 10.0) AppleWebKit/537.36 (KHTML, like Gecko) Chrome/108.0.5359.125 Safari/537.36'\n",
    "options.add_argument(a)\n",
    "# for ChromeDriver version 79.0.3945.16 or over\n",
    "options.add_argument(\"--disable-blink-features=AutomationControlled\")\n",
    "\n",
    "driver = webdriver.Chrome(executable_path=r'C:\\Users\\user\\Project-Cars\\drivers\\Chromedriver\\chromedriver.exe',\n",
    "                          options=options)\n",
    "\n",
    "cite = 'https://auto.ru/'\n",
    "\n",
    "\n",
    "driver.get(cite)\n",
    "driver.find_element(by = By.XPATH, value = '//*[@id=\"root\"]/div/div/form/div[2]/div/div/div[1]/input').click()\n",
    "time.sleep(15)\n",
    "for cookie in pickle.load(open(f\"auto_cookies\", 'rb')):\n",
    "    driver.add_cookie(cookie)\n",
    "driver.refresh()\n",
    "marks_tidy = driver.find_elements(by = By.CLASS_NAME, value = 'IndexMarks__item')\n",
    "count_tidy = driver.find_elements(by = By.CLASS_NAME, value = 'IndexMarks__item-count')\n",
    "marks = []\n",
    "counts = []\n",
    "city = driver.find_element(by = By.CLASS_NAME, value = 'GeoSelect__titleShrinker-wjCdV').text.split(' ')[0]\n",
    "for j in tqdm(range(len(marks_tidy)), desc = 'Работаю с марками'):\n",
    "    marks.append(marks_tidy[j].text.split('\\n')[0])"
   ],
   "metadata": {
    "collapsed": false,
    "pycharm": {
     "name": "#%%\n"
    }
   }
  },
  {
   "cell_type": "code",
   "execution_count": 7,
   "outputs": [
    {
     "name": "stderr",
     "output_type": "stream",
     "text": [
      "Парсирую юрл марок (вообще): 0it [00:00, ?it/s]\n"
     ]
    }
   ],
   "source": [
    "urls_all = pd.DataFrame()\n",
    "p = 0\n",
    "for z in tqdm(range(len(marks_tidy)), desc = 'Парсирую юрл марок (вообще)'):\n",
    "    # print(f'Сейчас работаю с маркой {mark.text}')\n",
    "    try: marks_tidy[z].click()\n",
    "    except:\n",
    "        marks_tidy = driver.find_elements(by = By.CLASS_NAME, value = 'IndexMarks__item')\n",
    "        marks_tidy[z].click()\n",
    "    link = []\n",
    "    driver.execute_script(\"window.scrollTo(0, document.body.scrollHeight);\")\n",
    "    time.sleep(3)\n",
    "    try:\n",
    "        page_max = driver.find_element(by = By.XPATH, value = '//*[@id=\"listing-filters\"]/div[10]/div/span/a[11]/span')\\\n",
    "        .text.split('\\n')[-1]\n",
    "    except:\n",
    "        page_max = driver.find_element(by = By.XPATH, value = '//*[@id=\"lmcQaMxB6xjLkJq45u4ay\"]/div[10]/div/span/a[11]/span')\\\n",
    "                .text.split('\\n')[-1]\n",
    "\n",
    "    print(f'Всего будет {page_max} страниц')\n",
    "    for i in tqdm(range(2, int(page_max) + 1), desc = f'Страницы'):\n",
    "        p += 1\n",
    "        time.sleep(5)\n",
    "        urls = driver.find_elements(by = By.CLASS_NAME, value = 'LazyImage__image')\n",
    "        for url in urls:\n",
    "            try:\n",
    "                link.append(url.get_attribute('src'))\n",
    "            except:\n",
    "                time.sleep(5)\n",
    "                urls = driver.find_elements(by = By.CLASS_NAME, value = 'LazyImage__image')\n",
    "                for url in urls:\n",
    "                    link.append(url.get_attribute('src'))\n",
    "        driver.find_element(by = By.LINK_TEXT, value = f'{i}').click()\n",
    "        if page_max == 1:\n",
    "            break\n",
    "        if p % 5 == 0:\n",
    "            urls_gap = pd.DataFrame()\n",
    "            d = {'Urls' : link,\n",
    "                 'Mark' : [marks_tidy[z]] * len(link)}\n",
    "            urls_gap.append(pd.DataFrame(d))\n",
    "            urls_gap.to_csv('Urls_gap.csv')\n",
    "\n",
    "\n",
    "    d = {'Urls' : link,\n",
    "         'Mark' : [marks_tidy[z]] * len(link)\n",
    "         }\n",
    "    urls_all.append(pd.DataFrame(d))\n",
    "    driver.get(cite)\n",
    "    # marks_tidy = driver.find_elements(by = By.CLASS_NAME, value = 'IndexMarks__item')\n",
    "urls_all.to_csv('Urls.csv')"
   ],
   "metadata": {
    "collapsed": false,
    "pycharm": {
     "name": "#%%\n"
    }
   }
  }
 ],
 "metadata": {
  "kernelspec": {
   "display_name": "Python 3",
   "language": "python",
   "name": "python3"
  },
  "language_info": {
   "codemirror_mode": {
    "name": "ipython",
    "version": 2
   },
   "file_extension": ".py",
   "mimetype": "text/x-python",
   "name": "python",
   "nbconvert_exporter": "python",
   "pygments_lexer": "ipython2",
   "version": "2.7.6"
  }
 },
 "nbformat": 4,
 "nbformat_minor": 0
}